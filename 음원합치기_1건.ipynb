{
 "cells": [
  {
   "cell_type": "code",
   "execution_count": 2,
   "id": "f32be970",
   "metadata": {},
   "outputs": [],
   "source": [
    "#Python은 필요한 작업을 수행하는 웨이브 모듈과 함께 제공됩니다. 아래 예는 파일의 세부 정보(모노 또는 스테레오, 프레임 속도 등)가 동일한 경우에 작동합니다.\n",
    "#코드와 동일한 폴더 내에 아래의 ori, copy 파일이 있어야함\n",
    "import wave\n",
    "#ori에 copy를 이어붙임\n",
    "infiles = [\"1_ori.wav\", \"1_copy.wav\"]\n",
    "outfile = \"1_edit.wav\"\n",
    "\n",
    "data= []\n",
    "for infile in infiles:\n",
    "    w = wave.open(infile, 'rb')\n",
    "    data.append( [w.getparams(), w.readframes(w.getnframes())] )\n",
    "    w.close()\n",
    "    \n",
    "output = wave.open(outfile, 'wb')\n",
    "output.setparams(data[0][0])\n",
    "for i in range(len(data)):\n",
    "    output.writeframes(data[i][1])\n",
    "output.close()"
   ]
  },
  {
   "cell_type": "code",
   "execution_count": null,
   "id": "26e0e2b3",
   "metadata": {},
   "outputs": [],
   "source": []
  }
 ],
 "metadata": {
  "kernelspec": {
   "display_name": "Python 3 (ipykernel)",
   "language": "python",
   "name": "python3"
  },
  "language_info": {
   "codemirror_mode": {
    "name": "ipython",
    "version": 3
   },
   "file_extension": ".py",
   "mimetype": "text/x-python",
   "name": "python",
   "nbconvert_exporter": "python",
   "pygments_lexer": "ipython3",
   "version": "3.9.12"
  }
 },
 "nbformat": 4,
 "nbformat_minor": 5
}
