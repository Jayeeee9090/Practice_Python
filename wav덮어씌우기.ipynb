{
 "cells": [
  {
   "cell_type": "code",
   "execution_count": 21,
   "id": "8c287287",
   "metadata": {},
   "outputs": [
    {
     "name": "stdout",
     "output_type": "stream",
     "text": [
      "[[ 0.          0.        ]\n",
      " [ 0.          0.        ]\n",
      " [ 0.          0.        ]\n",
      " ...\n",
      " [-0.01797485 -0.02984619]\n",
      " [-0.01583862 -0.02276611]\n",
      " [-0.01217651 -0.01513672]]\n",
      "[0 0]\n"
     ]
    }
   ],
   "source": [
    "import soundfile as sf\n",
    "import numpy as np\n",
    "y, sr = sf.read(\"C:/Users/MISO/Downloads/0.제외/test/샘플/1R-011-KMJ-57-M-060116-PD_ori.wav\")\n",
    "x = np.array([0,0])\n",
    "print(y)\n",
    "print(x)\n",
    "x = np.concatenate(([x], y),axis=0)\n",
    "sf.write(\"C:/Users/MISO/Downloads/0.제외/test/샘플/1R-011-KMJ-57-M-060116-PD_copy.wav\", x, sr)"
   ]
  },
  {
   "cell_type": "code",
   "execution_count": null,
   "id": "9ab7dbfa",
   "metadata": {},
   "outputs": [],
   "source": []
  }
 ],
 "metadata": {
  "kernelspec": {
   "display_name": "Python 3 (ipykernel)",
   "language": "python",
   "name": "python3"
  },
  "language_info": {
   "codemirror_mode": {
    "name": "ipython",
    "version": 3
   },
   "file_extension": ".py",
   "mimetype": "text/x-python",
   "name": "python",
   "nbconvert_exporter": "python",
   "pygments_lexer": "ipython3",
   "version": "3.9.12"
  }
 },
 "nbformat": 4,
 "nbformat_minor": 5
}
