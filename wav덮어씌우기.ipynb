{
 "cells": [
  {
   "cell_type": "code",
   "execution_count": 2,
   "id": "8c287287",
   "metadata": {},
   "outputs": [
    {
     "name": "stdout",
     "output_type": "stream",
     "text": [
      "[[ 0.          0.        ]\n",
      " [ 0.          0.        ]\n",
      " [ 0.          0.        ]\n",
      " ...\n",
      " [-0.02160645 -0.02160645]\n",
      " [-0.02172852 -0.02172852]\n",
      " [-0.02203369 -0.02203369]]\n",
      "[0 0]\n"
     ]
    }
   ],
   "source": [
    "import soundfile as sf\n",
    "import numpy as np\n",
    "y, sr = sf.read(\"C:/Users/MISO/Desktop/wav_/1_ori.wav\")\n",
    "x = np.array([0,0])\n",
    "print(y)\n",
    "print(x)\n",
    "x = np.concatenate(([x], y),axis=0)\n",
    "sf.write(\"C:/Users/MISO/Desktop/wav_/1_copy.wav\", x, sr)"
   ]
  },
  {
   "cell_type": "code",
   "execution_count": null,
   "id": "9ab7dbfa",
   "metadata": {},
   "outputs": [],
   "source": []
  }
 ],
 "metadata": {
  "kernelspec": {
   "display_name": "Python 3 (ipykernel)",
   "language": "python",
   "name": "python3"
  },
  "language_info": {
   "codemirror_mode": {
    "name": "ipython",
    "version": 3
   },
   "file_extension": ".py",
   "mimetype": "text/x-python",
   "name": "python",
   "nbconvert_exporter": "python",
   "pygments_lexer": "ipython3",
   "version": "3.9.12"
  }
 },
 "nbformat": 4,
 "nbformat_minor": 5
}
