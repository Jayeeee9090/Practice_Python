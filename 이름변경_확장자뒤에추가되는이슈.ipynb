{
 "cells": [
  {
   "cell_type": "code",
   "execution_count": 2,
   "id": "04e97137",
   "metadata": {},
   "outputs": [
    {
     "name": "stdout",
     "output_type": "stream",
     "text": [
      "['.ipynb_checkpoints', '1_copy.wav', '1_edit.wav', '1_ori.wav', 'wav덮어씌우기.ipynb', 'wav배속.ipynb', '음원합치기_1건.ipynb', '이름변경_확장자뒤에추가되는이슈.ipynb', '특정 확장자 찾기.ipynb']\n",
      "['']\n",
      "['', '1_copy']\n",
      "['', '1_copy', '1_edit']\n",
      "['', '1_copy', '1_edit', '1_ori']\n",
      "['', '1_copy', '1_edit', '1_ori', 'wav덮어씌우기']\n",
      "['', '1_copy', '1_edit', '1_ori', 'wav덮어씌우기', 'wav배속']\n",
      "['', '1_copy', '1_edit', '1_ori', 'wav덮어씌우기', 'wav배속', '음원합치기_1건']\n",
      "['', '1_copy', '1_edit', '1_ori', 'wav덮어씌우기', 'wav배속', '음원합치기_1건', '이름변경_확장자뒤에추가되는이슈']\n",
      "['', '1_copy', '1_edit', '1_ori', 'wav덮어씌우기', 'wav배속', '음원합치기_1건', '이름변경_확장자뒤에추가되는이슈', '특정 확장자 찾기']\n"
     ]
    }
   ],
   "source": [
    "import os\n",
    "\n",
    "dir = \"C:/Users/MISO/Desktop/git/\"\n",
    "files = os.listdir(dir)\n",
    "files_1 = list()\n",
    "print(files)\n",
    "#확장자 포함된 기존파일명에 _copy.wav가 추가로 붙게됨.\n",
    "#특정 파일이 복사되서 생성되는 경우 있음..\n",
    "for i in files:\n",
    "    if i.count(\".\") == 1:\n",
    "        v = i.split(\".\")\n",
    "        files_1.append(v[0]) \n",
    "        print(files_1)\n",
    "for file in files:\n",
    "    os.rename(dir+file,dir+file+\"_copy.wav\")"
   ]
  },
  {
   "cell_type": "code",
   "execution_count": null,
   "id": "993993f2",
   "metadata": {},
   "outputs": [],
   "source": []
  }
 ],
 "metadata": {
  "kernelspec": {
   "display_name": "Python 3 (ipykernel)",
   "language": "python",
   "name": "python3"
  },
  "language_info": {
   "codemirror_mode": {
    "name": "ipython",
    "version": 3
   },
   "file_extension": ".py",
   "mimetype": "text/x-python",
   "name": "python",
   "nbconvert_exporter": "python",
   "pygments_lexer": "ipython3",
   "version": "3.9.12"
  }
 },
 "nbformat": 4,
 "nbformat_minor": 5
}
