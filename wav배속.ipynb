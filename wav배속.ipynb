{
 "cells": [
  {
   "cell_type": "code",
   "execution_count": 2,
   "metadata": {},
   "outputs": [
    {
     "data": {
      "text/plain": [
       "<_io.BufferedRandom name='C:/Users/MISO/Desktop/wav_\\\\1.wav'>"
      ]
     },
     "execution_count": 2,
     "metadata": {},
     "output_type": "execute_result"
    }
   ],
   "source": [
    "import os\n",
    "from pydub import AudioSegment\n",
    "\n",
    "# 음원의 재생 속도 조절을 통한 길이 변경\n",
    "def speed_change(sound, speed=1.0):\n",
    "    sound_with_altered_frame_rate = sound._spawn(sound.raw_data, overrides={\n",
    "         \"frame_rate\": int(sound.frame_rate * speed)\n",
    "      })\n",
    "\n",
    "    return sound_with_altered_frame_rate.set_frame_rate(sound.frame_rate)\n",
    "\n",
    "# 음원 경로\n",
    "snd_file_path = 'C:/Users/MISO/Desktop/wav_/1.wav'\n",
    "save_path = os.path.dirname(snd_file_path)\n",
    "\n",
    "# 변경할 음원의 길이 배율 \n",
    "LENTGH_RATE = 1.05\n",
    "\n",
    "sound = AudioSegment.from_file(snd_file_path)\n",
    "\n",
    "edit_snd = speed_change(sound, 1/LENTGH_RATE)\n",
    "edit_snd.export(os.path.join(save_path, '1.wav'), format='wav')\n"
   ]
  },
  {
   "cell_type": "code",
   "execution_count": null,
   "metadata": {},
   "outputs": [],
   "source": []
  }
 ],
 "metadata": {
  "kernelspec": {
   "display_name": "Python 3 (ipykernel)",
   "language": "python",
   "name": "python3"
  },
  "language_info": {
   "codemirror_mode": {
    "name": "ipython",
    "version": 3
   },
   "file_extension": ".py",
   "mimetype": "text/x-python",
   "name": "python",
   "nbconvert_exporter": "python",
   "pygments_lexer": "ipython3",
   "version": "3.9.12"
  },
  "vscode": {
   "interpreter": {
    "hash": "608204022a36148a2c014b593d2be3711255e452eb47af84f6569a6799098062"
   }
  }
 },
 "nbformat": 4,
 "nbformat_minor": 2
}
