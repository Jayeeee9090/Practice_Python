{
 "cells": [
  {
   "cell_type": "code",
   "execution_count": 1,
   "id": "a847f673",
   "metadata": {},
   "outputs": [
    {
     "name": "stdout",
     "output_type": "stream",
     "text": [
      "1_copy.wav\n",
      "1_edit.wav\n",
      "1_ori.wav\n"
     ]
    }
   ],
   "source": [
    "import os\n",
    "dir_wav = 'C:/Users/MISO/Desktop/git'\n",
    "file_list = os.listdir(dir_wav)\n",
    "\n",
    "for file in file_list:\n",
    "    if file.endswith(\".wav\"):\n",
    "        print(file)"
   ]
  },
  {
   "cell_type": "code",
   "execution_count": null,
   "id": "0b07051e",
   "metadata": {},
   "outputs": [],
   "source": []
  }
 ],
 "metadata": {
  "kernelspec": {
   "display_name": "Python 3 (ipykernel)",
   "language": "python",
   "name": "python3"
  },
  "language_info": {
   "codemirror_mode": {
    "name": "ipython",
    "version": 3
   },
   "file_extension": ".py",
   "mimetype": "text/x-python",
   "name": "python",
   "nbconvert_exporter": "python",
   "pygments_lexer": "ipython3",
   "version": "3.9.12"
  }
 },
 "nbformat": 4,
 "nbformat_minor": 5
}
